{
 "cells": [
  {
   "cell_type": "code",
   "execution_count": 1,
   "metadata": {},
   "outputs": [],
   "source": [
    "from my_library import *"
   ]
  },
  {
   "cell_type": "code",
   "execution_count": 4,
   "metadata": {},
   "outputs": [],
   "source": [
    "# Data 기본 정보 확인 함수\n",
    "\n",
    "def data_check(df):\n",
    "    from IPython.core.display import display, HTML\n",
    "    display(HTML(\"<style>.container { width:100% !important; }</style>\"))\n",
    "    print( f\"◆◆◆{df.shape}: Total shape ◆◆◆\" )\n",
    "    df_num = df.select_dtypes( include='number', exclude=['cfloat','complex64',\"complex128\"] )\n",
    "    if df_num.shape[1] > 0:\n",
    "        print( f\"---{df_num.shape}: Numeric Data: only Real Number ↓↓↓ \" + \"-\"*27 )\n",
    "        df_info = pd.DataFrame(  [[ i for i in range(df_num.shape[1]) ]], columns=df_num.columns, index=[\"NO\"]  )\n",
    "        df_info.loc[\"Column\"] = df_num.columns\n",
    "        df_info.loc[\"null\"] = len(df_num) - df_num.count()\n",
    "        df_info.loc[\"null(%)\"] = round( 100 * (len(df_num)-df_num.count()) / len(df_num), 1)\n",
    "        df_info.loc[\"dtype\"] = df_num.dtypes\n",
    "        df_info.loc[\"n_uniq\"] = df_num.nunique()\n",
    "        df_info.loc[\"|\"] = \"|\"\n",
    "        df_info.loc[\"Mean\"] = df_num.mean()\n",
    "        df_info.loc[\"Std\"] = df_num.std(ddof=0)\n",
    "        df_info.loc[\"|max-min|\"] = df_num.max() - df_num.min()\n",
    "        df_info.loc[\"│\"] = \"│\"\n",
    "        df_info.loc[\"min\"] = df_num.min()\n",
    "        df_info.loc[\"Q1\"] = df_num.quantile(0.25)\n",
    "        df_info.loc[\"median\"] = df_num.median()   \n",
    "        df_info.loc[\"Q3\"] = df_num.quantile(0.75)\n",
    "        df_info.loc[\"max\"] = df_num.max() \n",
    "        df_info = df_info.T\n",
    "        df_info[\"NO\"] = df_info[\"NO\"].astype(int)\n",
    "        df_info[\"null\"] = df_info[\"null\"].astype(int) \n",
    "        for i in range(len(df_info)):\n",
    "            for j in [2,5,7,8,9]+list(range(11,df_info.shape[1])):\n",
    "                if df_info.iloc[i,j]==int(df_info.iloc[i,j]):\n",
    "                    df_info.iloc[i,j]=str(f'{df_info.iloc[i,j]:,}').split(\".\")[0] \n",
    "                elif abs( df_info.iloc[i,j] ) >= 1000:\n",
    "                    df_info.iloc[i,j]=str(f'{df_info.iloc[i,j]:,}').split(\".\")[0] \n",
    "                elif abs( df_info.iloc[i,j] ) >= 100:\n",
    "                    df_info.iloc[i,j]=str(f'{df_info.iloc[i,j]:,.1f}').rstrip(\"0\") \n",
    "                elif abs( df_info.iloc[i,j] ) >= 10:\n",
    "                    df_info.iloc[i,j]=str(f'{df_info.iloc[i,j]:,.2f}').rstrip(\"0\") \n",
    "                elif abs( df_info.iloc[i,j] ) >= 1:\n",
    "                    df_info.iloc[i,j]=str(f'{df_info.iloc[i,j]:,.3f}').rstrip(\"0\")\n",
    "                else:\n",
    "                    df_info.iloc[i,j]=str(f'{df_info.iloc[i,j]:,.4f}').rstrip(\"0\")\n",
    "        df_info = df_info.astype(str)\n",
    "        df_col = pd.DataFrame( [df_info.columns], columns=df_info.columns )\n",
    "        df_info = pd.concat( [df_col,df_info] )\n",
    "        df_len = df_info.copy()\n",
    "        for i in range(len(df_len)):\n",
    "            for j in range(df_len.shape[1]):\n",
    "                df_len.iloc[i,j]=len(df_len.iloc[i,j])\n",
    "        for i in range(len(df_info)):\n",
    "            for j in range(df_info.shape[1]):\n",
    "                print(df_info.iloc[i,j].rjust(  df_len.max()[j]  ), end=\"  \")\n",
    "            print()\n",
    "    df_time = df.select_dtypes(include='datetime')\n",
    "    if df_time.shape[1] > 0:\n",
    "        print( f\"---{df_time.shape}: DateTime Data ↓↓↓ \" + \"-\"*44 )\n",
    "        df_info = pd.DataFrame(  [[ i for i in range(df_time.shape[1]) ]], columns=df_time.columns, index=[\"NO\"]  )\n",
    "        df_info.loc[\"Column\"] = df_time.columns  \n",
    "        df_info.loc[\"null\"] = len(df_time) - df_time.count()\n",
    "        df_info.loc[\"null(%)\"] = round( 100 * (len(df_time)-df_time.count()) / len(df_time), 1)\n",
    "        df_info.loc[\"dtype\"] = df_time.dtypes\n",
    "        df_info.loc[\"n_uniq\"] = df_time.nunique()\n",
    "        df_info.loc[\"|\"] = \"|\"\n",
    "        df_info.loc[\"min\"] = df_time.min()\n",
    "        df_info.loc[\"max\"] = df_time.max() \n",
    "        df_info = df_info.T\n",
    "        df_info[\"NO\"] = df_info[\"NO\"].astype(int) \n",
    "        df_info[\"null\"] = df_info[\"null\"].astype(int)\n",
    "        for i in range(len(df_info)):\n",
    "            for j in [2,5]:\n",
    "                df_info.iloc[i,j]=str(f'{df_info.iloc[i,j]:,}').split(\".\")[0]\n",
    "        df_info = df_info.astype(str)\n",
    "        df_col = pd.DataFrame( [df_info.columns], columns=df_info.columns )\n",
    "        df_info = pd.concat( [df_col,df_info] )\n",
    "        df_len = df_info.copy()\n",
    "        for i in range(len(df_len)):\n",
    "            for j in range(df_len.shape[1]):\n",
    "                df_len.iloc[i,j]=len(df_len.iloc[i,j])\n",
    "        for i in range(len(df_info)):\n",
    "            for j in range(df_info.shape[1]):\n",
    "                print(df_info.iloc[i,j].rjust(  df_len.max()[j]  ), end=\"  \") \n",
    "            print()\n",
    "    df_obj_1 = df.select_dtypes( exclude=['number','datetime'] )\n",
    "    df_obj_2 = df.select_dtypes( include=['cfloat','complex64',\"complex128\"] )\n",
    "    df_obj = pd.concat( [df_obj_1,df_obj_2], axis=1 )\n",
    "    if df_obj.shape[1] > 0:\n",
    "        print( f\"---{df_obj.shape}: etc Data: Object, Complex Numbers, ... ↓↓↓ \" + \"-\"*19 )\n",
    "        df_info = pd.DataFrame(  [[ i for i in range(df_obj.shape[1]) ]], columns=df_obj.columns, index=[\"NO\"]  )\n",
    "        df_info.loc[\"Column\"] = df_obj.columns \n",
    "        df_info.loc[\"null\"] = len(df_obj) - df_obj.count()\n",
    "        df_info.loc[\"null(%)\"] = round( 100 * (len(df_obj)-df_obj.count()) / len(df_obj), 1)\n",
    "        df_info.loc[\"dtype\"] = df_obj.dtypes\n",
    "        df_info.loc[\"n_uniq\"] = df_obj.nunique()\n",
    "        df_info.loc[\"|\"] = \"|\"\n",
    "        freq_list = []\n",
    "        for i in range(df_obj.shape[1]):\n",
    "            freq_list.append(  list(df_obj.iloc[:,i].value_counts())[0]  )\n",
    "        df_info.loc[\"No1_freq_count\"] = freq_list\n",
    "        df_info.loc[\"rate(%)\"] = [ f\"{100*x/len(df_obj):.1f}\" for x in freq_list ]\n",
    "        df_info.loc[\"value\"] = list(  df_obj.mode().iloc[0]  )\n",
    "        df_info = df_info.T\n",
    "        df_info[\"NO\"] = df_info[\"NO\"].astype(int) \n",
    "        df_info[\"null\"] = df_info[\"null\"].astype(int)\n",
    "        for i in range(len(df_info)):\n",
    "            for j in [2,5,7]:\n",
    "                df_info.iloc[i,j]=str(f'{df_info.iloc[i,j]:,}').split(\".\")[0]\n",
    "        df_info = df_info.astype(str)\n",
    "        df_col = pd.DataFrame( [df_info.columns], columns=df_info.columns )\n",
    "        df_info = pd.concat( [df_col,df_info] )\n",
    "        df_len = df_info.copy()\n",
    "        for i in range(len(df_len)):\n",
    "            for j in range(df_len.shape[1]):\n",
    "                df_len.iloc[i,j]=len(df_len.iloc[i,j])\n",
    "        for i in range(len(df_info)):\n",
    "            for j in range(df_info.shape[1]):\n",
    "                if j !=9:\n",
    "                    print(df_info.iloc[i,j].rjust(  df_len.max()[j]  ), end=\"  \")\n",
    "                else:\n",
    "                    print(df_info.iloc[i,j].ljust(  df_len.max()[j]  ), end=\"  \")\n",
    "            print()\n",
    "    print(\"-\"*78,\"\\n\")"
   ]
  },
  {
   "cell_type": "code",
   "execution_count": 18,
   "metadata": {},
   "outputs": [],
   "source": [
    "customers = pd.read_csv('../Data_e-commerce/olist_customers_dataset.csv')\n",
    "geolocation = pd.read_csv('../Data_e-commerce/olist_geolocation_dataset.csv')\n",
    "order_items = pd.read_csv('../Data_e-commerce/olist_order_items_dataset.csv')\n",
    "order_payments = pd.read_csv('../Data_e-commerce/olist_order_payments_dataset.csv')\n",
    "order_reviews = pd.read_csv('../Data_e-commerce/olist_order_reviews_dataset.csv')\n",
    "orders = pd.read_csv('../Data_e-commerce/olist_orders_dataset.csv')\n",
    "products = pd.read_csv('../Data_e-commerce/olist_products_dataset.csv')\n",
    "sellers = pd.read_csv('../Data_e-commerce/olist_sellers_dataset.csv')\n",
    "\n",
    "# product_category 이름 English로 번역\n",
    "name_translation = pd.read_csv('../Data_e-commerce/product_category_name_translation.csv')"
   ]
  },
  {
   "cell_type": "markdown",
   "metadata": {},
   "source": [
    "# Data 기본 정보 확인"
   ]
  },
  {
   "cell_type": "code",
   "execution_count": 17,
   "metadata": {},
   "outputs": [
    {
     "name": "stdout",
     "output_type": "stream",
     "text": [
      "customers\n"
     ]
    },
    {
     "data": {
      "text/html": [
       "<style>.container { width:100% !important; }</style>"
      ],
      "text/plain": [
       "<IPython.core.display.HTML object>"
      ]
     },
     "metadata": {},
     "output_type": "display_data"
    },
    {
     "name": "stdout",
     "output_type": "stream",
     "text": [
      "◆◆◆ (99441, 5): Total shape ◆◆◆\n",
      "---(99441, 1): Numeric Data: only Real Number ↓↓↓ ---------------------------\n",
      "NO                    Column  null  null(%)  dtype  n_uniq  |    Mean     Std  |max-min|  │    min      Q1  median      Q3     max  \n",
      " 0  customer_zip_code_prefix     0      0.0  int64  14,994  |  35,137  29,797     98,987  │  1,003  11,347  24,416  58,900  99,990  \n",
      "---(99441, 4): etc Data: Object, Complex Numbers, ... ↓↓↓ -------------------\n",
      "NO              Column  null  null(%)   dtype  n_uniq  |  No1_freq_count  rate(%)  value                             \n",
      " 0         customer_id     0      0.0  object  99,441  |               1      0.0  00012a2ce6f8dcda20d059ce98491703  \n",
      " 1  customer_unique_id     0      0.0  object  96,096  |              17      0.0  8d50f5eadf50201ccdcedfb9e2ac8455  \n",
      " 2       customer_city     0      0.0  object   4,119  |          15,540     15.6  sao paulo                         \n",
      " 3      customer_state     0      0.0  object      27  |          41,746     42.0  SP                                \n",
      "------------------------------------------------------------------------------ \n",
      "\n",
      "geolocation\n"
     ]
    },
    {
     "data": {
      "text/html": [
       "<style>.container { width:100% !important; }</style>"
      ],
      "text/plain": [
       "<IPython.core.display.HTML object>"
      ]
     },
     "metadata": {},
     "output_type": "display_data"
    },
    {
     "name": "stdout",
     "output_type": "stream",
     "text": [
      "◆◆◆ (1000163, 5): Total shape ◆◆◆\n",
      "---(1000163, 3): Numeric Data: only Real Number ↓↓↓ ---------------------------\n",
      "NO                       Column  null  null(%)    dtype   n_uniq  |    Mean     Std  |max-min|  │     min      Q1  median      Q3     max  \n",
      " 0  geolocation_zip_code_prefix     0      0.0    int64   19,015  |  36,574  30,549     98,989  │   1,001  11,075  26,530  63,504  99,990  \n",
      " 1              geolocation_lat     0      0.0  float64  717,360  |  -21.18   5.716      81.67  │  -36.61   -23.6  -22.92  -19.98   45.07  \n",
      " 2              geolocation_lng     0      0.0  float64  717,613  |  -46.39    4.27      222.6  │  -101.5  -48.57  -46.64  -43.77   121.1  \n",
      "---(1000163, 2): etc Data: Object, Complex Numbers, ... ↓↓↓ -------------------\n",
      "NO             Column  null  null(%)   dtype  n_uniq  |  No1_freq_count  rate(%)  value      \n",
      " 0   geolocation_city     0      0.0  object   8,011  |         135,800     13.6  sao paulo  \n",
      " 1  geolocation_state     0      0.0  object      27  |         404,268     40.4  SP         \n",
      "------------------------------------------------------------------------------ \n",
      "\n",
      "order_items\n"
     ]
    },
    {
     "data": {
      "text/html": [
       "<style>.container { width:100% !important; }</style>"
      ],
      "text/plain": [
       "<IPython.core.display.HTML object>"
      ]
     },
     "metadata": {},
     "output_type": "display_data"
    },
    {
     "name": "stdout",
     "output_type": "stream",
     "text": [
      "◆◆◆ (112650, 7): Total shape ◆◆◆\n",
      "---(112650, 3): Numeric Data: only Real Number ↓↓↓ ---------------------------\n",
      "NO         Column  null  null(%)    dtype  n_uniq  |   Mean     Std  |max-min|  │   min     Q1  median     Q3    max  \n",
      " 0  order_item_id     0      0.0    int64      21  |  1.198  0.7051         20  │     1      1       1      1     21  \n",
      " 1          price     0      0.0  float64   5,968  |  120.7   183.6      6,734  │  0.85   39.9   74.99  134.9  6,735  \n",
      " 2  freight_value     0      0.0  float64   6,999  |  19.99   15.81      409.7  │     0  13.08   16.26  21.15  409.7  \n",
      "---(112650, 4): etc Data: Object, Complex Numbers, ... ↓↓↓ -------------------\n",
      "NO               Column  null  null(%)   dtype  n_uniq  |  No1_freq_count  rate(%)  value                             \n",
      " 0             order_id     0      0.0  object  98,666  |              21      0.0  8272b63d03f5f79c56e9e4120aec44ef  \n",
      " 1           product_id     0      0.0  object  32,951  |             527      0.5  aca2eb7d00ea1a7b8ebd4e68314663af  \n",
      " 2            seller_id     0      0.0  object   3,095  |           2,033      1.8  6560211a19b47992c3666cc44a7e94c0  \n",
      " 3  shipping_limit_date     0      0.0  object  93,318  |              21      0.0  2017-07-21 18:25:23               \n",
      "------------------------------------------------------------------------------ \n",
      "\n",
      "order_payments\n"
     ]
    },
    {
     "data": {
      "text/html": [
       "<style>.container { width:100% !important; }</style>"
      ],
      "text/plain": [
       "<IPython.core.display.HTML object>"
      ]
     },
     "metadata": {},
     "output_type": "display_data"
    },
    {
     "name": "stdout",
     "output_type": "stream",
     "text": [
      "◆◆◆ (103886, 5): Total shape ◆◆◆\n",
      "---(103886, 3): Numeric Data: only Real Number ↓↓↓ ---------------------------\n",
      "NO                Column  null  null(%)    dtype  n_uniq  |   Mean     Std  |max-min|  │  min     Q1  median     Q3     max  \n",
      " 0    payment_sequential     0      0.0    int64      29  |  1.093  0.7066         28  │    1      1       1      1      29  \n",
      " 1  payment_installments     0      0.0    int64      24  |  2.853   2.687         24  │    0      1       1      4      24  \n",
      " 2         payment_value     0      0.0  float64  29,077  |  154.1   217.5     13,664  │    0  56.79     100  171.8  13,664  \n",
      "---(103886, 2): etc Data: Object, Complex Numbers, ... ↓↓↓ -------------------\n",
      "NO        Column  null  null(%)   dtype  n_uniq  |  No1_freq_count  rate(%)  value                             \n",
      " 0      order_id     0      0.0  object  99,440  |              29      0.0  fa65dad1b0e818e3ccc5cb0e39231352  \n",
      " 1  payment_type     0      0.0  object       5  |          76,795     73.9  credit_card                       \n",
      "------------------------------------------------------------------------------ \n",
      "\n",
      "order_reviews\n"
     ]
    },
    {
     "data": {
      "text/html": [
       "<style>.container { width:100% !important; }</style>"
      ],
      "text/plain": [
       "<IPython.core.display.HTML object>"
      ]
     },
     "metadata": {},
     "output_type": "display_data"
    },
    {
     "name": "stdout",
     "output_type": "stream",
     "text": [
      "◆◆◆ (99224, 7): Total shape ◆◆◆\n",
      "---(99224, 1): Numeric Data: only Real Number ↓↓↓ ---------------------------\n",
      "NO        Column  null  null(%)  dtype  n_uniq  |   Mean    Std  |max-min|  │  min  Q1  median  Q3  max  \n",
      " 0  review_score     0      0.0  int64       5  |  4.086  1.348          4  │    1   4       5   5    5  \n",
      "---(99224, 6): etc Data: Object, Complex Numbers, ... ↓↓↓ -------------------\n",
      "NO                   Column    null  null(%)   dtype  n_uniq  |  No1_freq_count  rate(%)  value                             \n",
      " 0                review_id       0      0.0  object  98,410  |               3      0.0  08528f70f579f0c830189efc523d2182  \n",
      " 1                 order_id       0      0.0  object  98,673  |               3      0.0  03c939fd7fd3b38f8485a0f95798f1f6  \n",
      " 2     review_comment_title  87,656     88.3  object   4,527  |             423      0.4  Recomendo                         \n",
      " 3   review_comment_message  58,247     58.7  object  36,159  |             230      0.2  Muito bom                         \n",
      " 4     review_creation_date       0      0.0  object     636  |             463      0.5  2017-12-19 00:00:00               \n",
      " 5  review_answer_timestamp       0      0.0  object  98,248  |               4      0.0  2017-06-15 23:21:05               \n",
      "------------------------------------------------------------------------------ \n",
      "\n",
      "orders\n"
     ]
    },
    {
     "data": {
      "text/html": [
       "<style>.container { width:100% !important; }</style>"
      ],
      "text/plain": [
       "<IPython.core.display.HTML object>"
      ]
     },
     "metadata": {},
     "output_type": "display_data"
    },
    {
     "name": "stdout",
     "output_type": "stream",
     "text": [
      "◆◆◆ (99441, 8): Total shape ◆◆◆\n",
      "---(99441, 8): etc Data: Object, Complex Numbers, ... ↓↓↓ -------------------\n",
      "NO                         Column   null  null(%)   dtype  n_uniq  |  No1_freq_count  rate(%)  value                             \n",
      " 0                       order_id      0      0.0  object  99,441  |               1      0.0  00010242fe8c5a6d1ba2dd792cb16214  \n",
      " 1                    customer_id      0      0.0  object  99,441  |               1      0.0  00012a2ce6f8dcda20d059ce98491703  \n",
      " 2                   order_status      0      0.0  object       8  |          96,478     97.0  delivered                         \n",
      " 3       order_purchase_timestamp      0      0.0  object  98,875  |               3      0.0  2017-11-20 10:59:08               \n",
      " 4              order_approved_at    160      0.2  object  90,733  |               9      0.0  2018-02-27 04:31:10               \n",
      " 5   order_delivered_carrier_date  1,783      1.8  object  81,018  |              47      0.0  2018-05-09 15:48:00               \n",
      " 6  order_delivered_customer_date  2,965      3.0  object  95,664  |               3      0.0  2016-10-27 17:32:07               \n",
      " 7  order_estimated_delivery_date      0      0.0  object     459  |             522      0.5  2017-12-20 00:00:00               \n",
      "------------------------------------------------------------------------------ \n",
      "\n",
      "products\n"
     ]
    },
    {
     "data": {
      "text/html": [
       "<style>.container { width:100% !important; }</style>"
      ],
      "text/plain": [
       "<IPython.core.display.HTML object>"
      ]
     },
     "metadata": {},
     "output_type": "display_data"
    },
    {
     "name": "stdout",
     "output_type": "stream",
     "text": [
      "◆◆◆ (32951, 9): Total shape ◆◆◆\n",
      "---(32951, 7): Numeric Data: only Real Number ↓↓↓ ---------------------------\n",
      "NO                      Column  null  null(%)    dtype  n_uniq  |   Mean    Std  |max-min|  │  min   Q1  median     Q3     max  \n",
      " 0         product_name_lenght   610      1.9  float64      66  |  48.48  10.25         71  │    5   42      51     57      76  \n",
      " 1  product_description_lenght   610      1.9  float64   2,960  |  771.5  635.1      3,988  │    4  339     595    972   3,992  \n",
      " 2          product_photos_qty   610      1.9  float64      19  |  2.189  1.737         19  │    1    1       1      3      20  \n",
      " 3            product_weight_g     2      0.0  float64   2,204  |  2,276  4,281     40,425  │    0  300     700  1,900  40,425  \n",
      " 4           product_length_cm     2      0.0  float64      99  |  30.82  16.91         98  │    7   18      25     38     105  \n",
      " 5           product_height_cm     2      0.0  float64     102  |  16.94  13.64        103  │    2    8      13     21     105  \n",
      " 6            product_width_cm     2      0.0  float64      95  |   23.2  12.08        112  │    6   15      20     30     118  \n",
      "---(32951, 2): etc Data: Object, Complex Numbers, ... ↓↓↓ -------------------\n",
      "NO                 Column  null  null(%)   dtype  n_uniq  |  No1_freq_count  rate(%)  value                             \n",
      " 0             product_id     0      0.0  object  32,951  |               1      0.0  00066f42aeeb9f3007548bb9d3f33c38  \n",
      " 1  product_category_name   610      1.9  object      73  |           3,029      9.2  cama_mesa_banho                   \n",
      "------------------------------------------------------------------------------ \n",
      "\n",
      "sellers\n"
     ]
    },
    {
     "data": {
      "text/html": [
       "<style>.container { width:100% !important; }</style>"
      ],
      "text/plain": [
       "<IPython.core.display.HTML object>"
      ]
     },
     "metadata": {},
     "output_type": "display_data"
    },
    {
     "name": "stdout",
     "output_type": "stream",
     "text": [
      "◆◆◆ (3095, 4): Total shape ◆◆◆\n",
      "---(3095, 1): Numeric Data: only Real Number ↓↓↓ ---------------------------\n",
      "NO                  Column  null  null(%)  dtype  n_uniq  |    Mean     Std  |max-min|  │    min     Q1  median      Q3     max  \n",
      " 0  seller_zip_code_prefix     0      0.0  int64   2,246  |  32,291  32,708     98,729  │  1,001  7,093  14,940  64,552  99,730  \n",
      "---(3095, 3): etc Data: Object, Complex Numbers, ... ↓↓↓ -------------------\n",
      "NO        Column  null  null(%)   dtype  n_uniq  |  No1_freq_count  rate(%)  value                             \n",
      " 0     seller_id     0      0.0  object   3,095  |               1      0.0  0015a82c2db000af6aaaf3ae2ecb0532  \n",
      " 1   seller_city     0      0.0  object     611  |             694     22.4  sao paulo                         \n",
      " 2  seller_state     0      0.0  object      23  |           1,849     59.7  SP                                \n",
      "------------------------------------------------------------------------------ \n",
      "\n"
     ]
    }
   ],
   "source": [
    "# data 기본 정보 확인\n",
    "\n",
    "data_lst = [customers, geolocation, order_items, order_payments, order_reviews, orders, products, sellers]\n",
    "data_lst2 = ['customers', 'geolocation', 'order_items', 'order_payments', 'order_reviews', 'orders', 'products', 'sellers']\n",
    "\n",
    "for index, value in enumerate(data_lst) :\n",
    "    print(data_lst2[index])\n",
    "    data_check(value)\n"
   ]
  },
  {
   "cell_type": "markdown",
   "metadata": {},
   "source": [
    "### Data columns 설명\n",
    "\n",
    "1. customers \n",
    "    - customer_id : Each order has a unique customer_id -> Key to the orders dataset (PK, Primary key)\n",
    "    - customer_unique_id : unique identifier of a customer\n",
    "    - customer_zip_code_prefix : first five digits of customer zip code\n",
    "    - customer_city : customer city name\n",
    "    - customer_state : customer state<br><br>\n",
    "\n",
    "2. geolocation\n",
    "    - geolocation_zip_code_prefix : first 5 digits of zip code\n",
    "    - geolocation_lat : latitude\n",
    "    - geolocation_lng : longitude\n",
    "    - geolocation_city : city name\n",
    "    - geolocation_state : state<br><br>\n",
    "\n",
    "3. order_items\n",
    "    - order_id : order unique identifier\n",
    "    - order_item_id : sequential number identifying number of items included in the same order\n",
    "    - product_id : product unique identifier\n",
    "    - seller_id : seller unique identifier\n",
    "    - shipping_limit_date : Shows the seller shipping limit date for handling the order over to the logistic partner\n",
    "    - price : item price\n",
    "    - freight_value : item freight value item (if an order has more than one item the freight value is splitted between items)<br><br>\n",
    "\n",
    "4. order_payments\n",
    "    - order_id : unique identifier of an order\n",
    "    - payment_sequential : a customer may pay an order with more than one payment method. If he does so, a sequence will be created to\n",
    "    - payment_type : method of payment chosen by the customer\n",
    "    - payment_installments : number of installments chosen by the customer\n",
    "    - payment_value : transaction value<br><br>\n",
    "\n",
    "5. order_reviews\n",
    "    - review_id : unique review identifier\n",
    "    - order_id : unique order identifier\n",
    "    - review_score : Note ranging from 1 to 5 given by the customer on a satisfaction survey\n",
    "    - review_comment_title : Comment title from the review left by the customer, in Portuguese\n",
    "    - review_comment_message : Comment message from the review left by the customer, in Portuguese\n",
    "    - review_creation_date : Shows the data in which the satisfaction survey was sent to the customer\n",
    "    - review_answer_timestamp : Shows satisfaction survey answer timestamp<br><br>\n",
    "\n",
    "6. orders\n",
    "    - order_id : unique identifier of the order\n",
    "    - customer_id : key to the customer dataset. Each order has a unique customer_id. (PK)\n",
    "    - order_status : Reference to the order status (delivered, shipped, etc).\n",
    "    - order_purchase_timestamp : Shows the purchase timestamp\n",
    "    - order_approved_at : Show the payment approval timestamp\n",
    "    - order_delivered_carrier_date : Shows the order posting timestamp. When it was handled to the logistic partner.\n",
    "    - order_delivered_customer_date : Shows the actual order delivery date to the customer.\n",
    "    - order_estimated_delivery_date : Shows the estimated delivery date that was informed to customer at the purchase moment.<br><br>\n",
    "\n",
    "7. products\n",
    "    - product_id : unique product identifier\n",
    "    - product_category_name : root category of product, in Portuguese.\n",
    "    - product_name_lenght : number of characters extracted from the product name.\n",
    "    - product_description_lenght : number of characters extracted from the product description.\n",
    "    - product_photos_qty : number of product published photos\n",
    "    - product_weight_g : product weight measured in grams.\n",
    "    - product_length_cm : product length measured in centimeters.\n",
    "    - product_height_cm : product height measured in centimeters.\n",
    "    - product_width_cm : product width measured in centimeters.<br><br>\n",
    "\n",
    "8. sellers\n",
    "    - seller_id : seller unique identifier\n",
    "    - seller_zip_code_prefix : first 5 digits of seller zip code\n",
    "    - seller_city : seller city name\n",
    "    - seller_state : seller state\n",
    "\n"
   ]
  },
  {
   "cell_type": "markdown",
   "metadata": {},
   "source": [
    "### Product_category name Translation Check"
   ]
  },
  {
   "cell_type": "code",
   "execution_count": 25,
   "metadata": {},
   "outputs": [
    {
     "data": {
      "text/plain": [
       "cama_mesa_banho          3029\n",
       "esporte_lazer            2867\n",
       "moveis_decoracao         2657\n",
       "beleza_saude             2444\n",
       "utilidades_domesticas    2335\n",
       "Name: product_category_name, dtype: int64"
      ]
     },
     "execution_count": 25,
     "metadata": {},
     "output_type": "execute_result"
    }
   ],
   "source": [
    "products.product_category_name.value_counts()[:5]"
   ]
  },
  {
   "cell_type": "code",
   "execution_count": 24,
   "metadata": {},
   "outputs": [
    {
     "data": {
      "text/html": [
       "<div>\n",
       "<style scoped>\n",
       "    .dataframe tbody tr th:only-of-type {\n",
       "        vertical-align: middle;\n",
       "    }\n",
       "\n",
       "    .dataframe tbody tr th {\n",
       "        vertical-align: top;\n",
       "    }\n",
       "\n",
       "    .dataframe thead th {\n",
       "        text-align: right;\n",
       "    }\n",
       "</style>\n",
       "<table border=\"1\" class=\"dataframe\">\n",
       "  <thead>\n",
       "    <tr style=\"text-align: right;\">\n",
       "      <th></th>\n",
       "      <th>product_category_name</th>\n",
       "      <th>product_category_name_english</th>\n",
       "    </tr>\n",
       "  </thead>\n",
       "  <tbody>\n",
       "    <tr>\n",
       "      <th>3</th>\n",
       "      <td>cama_mesa_banho</td>\n",
       "      <td>bed_bath_table</td>\n",
       "    </tr>\n",
       "  </tbody>\n",
       "</table>\n",
       "</div>"
      ],
      "text/plain": [
       "  product_category_name product_category_name_english\n",
       "3       cama_mesa_banho                bed_bath_table"
      ]
     },
     "execution_count": 24,
     "metadata": {},
     "output_type": "execute_result"
    }
   ],
   "source": [
    "name_translation[name_translation.product_category_name == 'cama_mesa_banho']"
   ]
  },
  {
   "cell_type": "markdown",
   "metadata": {},
   "source": [
    "사용할 products의 데이터 category name 변경 X -> English로 변경 필요함!"
   ]
  },
  {
   "cell_type": "markdown",
   "metadata": {},
   "source": [
    "## 데이터를 살펴보고 생긴 궁금한 것 + 가설 설정\n",
    "1. 고객이 많은 주와 도시를 지리정보와 함께 지도로 확인 (고객 + 지리정보)\n",
    "2. 주문 결재 방식에서 할부 개월수가 긴 주문의 제품 가격 및 고객 주, 도시 (경제력과 연관이 되는지) (주문 지불 + 고객 정보)\n",
    "3. 주문 리뷰 점수 분석 및 리뷰 확인.. 포루투갈어..(일단 text를 넣으면 번역해주는 library가 있는지부터 확인!) (주문 리뷰)\n",
    "4. 결제 승인 후 실제 주문 배송까지 얼마의 시간이 걸리는지? (주문)\n",
    "5. 구매할때 고객에게 예상 배송 날짜를 보내는데 얼마나 정확한지 → 예상 배송 시간을 잘 예측한다면 고객 만족도 점수가 증가할듯? (주문)\n",
    "6. 제품 category중에 가장 많이 판매가 되고 있는 제품 (제품)\n",
    "7. 제품에 개시된 사진 수가 많을수록 판매량이 높은지 (제품)\n",
    "8. 판매자가 많은 도시에 구매 고객들이 많은지 (판매자 + 고객 정보)"
   ]
  }
 ],
 "metadata": {
  "kernelspec": {
   "display_name": "Python 3.8.13 ('fastcampus')",
   "language": "python",
   "name": "python3"
  },
  "language_info": {
   "codemirror_mode": {
    "name": "ipython",
    "version": 3
   },
   "file_extension": ".py",
   "mimetype": "text/x-python",
   "name": "python",
   "nbconvert_exporter": "python",
   "pygments_lexer": "ipython3",
   "version": "3.8.13"
  },
  "orig_nbformat": 4,
  "vscode": {
   "interpreter": {
    "hash": "058ea4f9840312a0374664ec0a2cf0b83c1baf4900d99cb168b57f81fb4cf306"
   }
  }
 },
 "nbformat": 4,
 "nbformat_minor": 2
}
