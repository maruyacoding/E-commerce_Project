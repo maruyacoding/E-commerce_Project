{
 "cells": [
  {
   "cell_type": "code",
   "execution_count": 1,
   "metadata": {},
   "outputs": [],
   "source": [
    "from my_library import *"
   ]
  },
  {
   "cell_type": "code",
   "execution_count": 2,
   "metadata": {},
   "outputs": [],
   "source": [
    "customers = pd.read_csv('../Data_e-commerce/olist_customers_dataset.csv')\n",
    "geolocation = pd.read_csv('../Data_e-commerce/olist_geolocation_dataset.csv')\n",
    "order_items = pd.read_csv('../Data_e-commerce/olist_order_items_dataset.csv')\n",
    "order_payments = pd.read_csv('../Data_e-commerce/olist_order_payments_dataset.csv')\n",
    "order_reviews = pd.read_csv('../Data_e-commerce/olist_order_reviews_dataset.csv')\n",
    "orders = pd.read_csv('../Data_e-commerce/olist_orders_dataset.csv')\n",
    "products = pd.read_csv('../Data_e-commerce/olist_products_dataset.csv')\n",
    "sellers = pd.read_csv('../Data_e-commerce/olist_sellers_dataset.csv')\n",
    "\n",
    "# product_category 이름 English로 번역\n",
    "name_translation = pd.read_csv('../Data_e-commerce/product_category_name_translation.csv')"
   ]
  },
  {
   "cell_type": "code",
   "execution_count": 3,
   "metadata": {},
   "outputs": [
    {
     "name": "stdout",
     "output_type": "stream",
     "text": [
      "['preprocessing', 'preprocessing', 'preprocessing', 'customers', 'geolocation', 'orders', 'order_items', 'order_payments', 'order_reviews', 'products', 'sellers', 'category_name']\n"
     ]
    }
   ],
   "source": [
    "import os\n",
    "\n",
    "dir_path = \"../Data_e-commerce\"\n",
    "\n",
    "total_data_lst2, data_lst = [], []\n",
    "\n",
    "for (root, directories, files) in os.walk(dir_path):\n",
    "    for file in files:\n",
    "        file_path = os.path.join(root, file)\n",
    "        data_lst.append(file_path.split('_')[2:-1])\n",
    "\n",
    "\n",
    "for i in data_lst :\n",
    "    total_data_lst2.append('_'.join(i))\n",
    "\n",
    "print(total_data_lst2)"
   ]
  },
  {
   "cell_type": "code",
   "execution_count": 4,
   "metadata": {},
   "outputs": [],
   "source": [
    "total_data_lst = [customers, geolocation, orders, order_items, order_payments, order_reviews, products, sellers, name_translation]\n",
    "\n",
    "total_data_lst2.remove('category_name') \n",
    "total_data_lst2.append('name_translation')"
   ]
  },
  {
   "cell_type": "code",
   "execution_count": 5,
   "metadata": {},
   "outputs": [
    {
     "name": "stdout",
     "output_type": "stream",
     "text": [
      "preprocessing:  (99441, 5)\n",
      "preprocessing:  (1000163, 5)\n",
      "preprocessing:  (99441, 8)\n",
      "customers:  (112650, 7)\n",
      "geolocation:  (103886, 5)\n",
      "orders:  (99224, 7)\n",
      "order_items:  (32951, 9)\n",
      "order_payments:  (3095, 4)\n",
      "order_reviews:  (71, 2)\n"
     ]
    }
   ],
   "source": [
    "for idx, value in enumerate(total_data_lst) :\n",
    "    print(f'{total_data_lst2[idx]}: ', value.shape)"
   ]
  },
  {
   "cell_type": "markdown",
   "metadata": {},
   "source": [
    "# Dataset Merge\n",
    "\n",
    "1. orders는 주문 상태, 배송에 관련된 데이터셋, 실제로 구매하여 배송받은 고객의 데이터이므로 이를 기준으로 merge \n",
    "2. 나머지 데이터는 outer를 사용하여 merge"
   ]
  },
  {
   "cell_type": "code",
   "execution_count": 6,
   "metadata": {},
   "outputs": [],
   "source": [
    "# orders dataset을 기준으로 merge -> left 사용\n",
    "df = orders.merge(order_items, on='order_id', how = 'left')\n",
    "\n",
    "# 나머지 데이터는 outer를 사용하여 merge\n",
    "df = df.merge(order_payments, on='order_id', how='outer')\n",
    "df = df.merge(order_reviews, on='order_id', how='outer')\n",
    "df = df.merge(products, on='product_id', how='outer')\n",
    "df = df.merge(customers, on='customer_id', how='outer')\n",
    "df = df.merge(sellers, on='seller_id', how='outer')"
   ]
  },
  {
   "cell_type": "code",
   "execution_count": 7,
   "metadata": {},
   "outputs": [
    {
     "data": {
      "text/plain": [
       "(119143, 39)"
      ]
     },
     "execution_count": 7,
     "metadata": {},
     "output_type": "execute_result"
    }
   ],
   "source": [
    "df.shape"
   ]
  },
  {
   "cell_type": "code",
   "execution_count": 8,
   "metadata": {},
   "outputs": [],
   "source": [
    "# 데이터 통합한거 excel, csv로 저장\n",
    "# df.to_excel(excel_writer = 'ecommerce_project_df.xlsx')\n",
    "df.to_csv('../Data_e-commerce/ecommerce_project_df.csv', index=False)"
   ]
  },
  {
   "cell_type": "markdown",
   "metadata": {},
   "source": [
    "# 컬럼 유형 확인 - 범주형, 연속형 등.."
   ]
  },
  {
   "cell_type": "code",
   "execution_count": 9,
   "metadata": {},
   "outputs": [],
   "source": [
    "df = pd.read_csv('../Data_e-commerce/ecommerce_project_df.csv')"
   ]
  },
  {
   "cell_type": "code",
   "execution_count": 10,
   "metadata": {},
   "outputs": [
    {
     "data": {
      "text/plain": [
       "['order_status']"
      ]
     },
     "execution_count": 10,
     "metadata": {},
     "output_type": "execute_result"
    }
   ],
   "source": [
    "df.nunique()[df.nunique() == 8].keys().to_list()"
   ]
  },
  {
   "cell_type": "code",
   "execution_count": 11,
   "metadata": {},
   "outputs": [
    {
     "name": "stdout",
     "output_type": "stream",
     "text": [
      "8 0 8 24 8\n"
     ]
    }
   ],
   "source": [
    "id_cols = ['order_id', 'seller_id', 'customer_id', 'order_item_id', 'product_id', \n",
    "           'review_id', 'customer_unique_id', 'seller_zip_code_prefix']\n",
    "\n",
    "# binary columns 확인\n",
    "bin_cols = df.nunique()[df.nunique() == 2].keys().to_list()\n",
    "# categorical columns 확인\n",
    "    # state의 수가 27, 27이하는 categorical column으로\n",
    "cat_cols = df.nunique()[df.nunique() <= 27].keys().tolist() \n",
    "# numerical columns 확인\n",
    "num_cols = [x for x in df.columns if x not in cat_cols + id_cols]\n",
    "# multi columns 확인\n",
    "multi_cols = [x for x in cat_cols if x not in bin_cols]\n",
    "print(len(id_cols), len(bin_cols), len(cat_cols), len(num_cols), len(multi_cols))"
   ]
  },
  {
   "cell_type": "code",
   "execution_count": 91,
   "metadata": {},
   "outputs": [
    {
     "name": "stdout",
     "output_type": "stream",
     "text": [
      "[]\n",
      "\n",
      "['order_status', 'order_item_id', 'payment_type', 'payment_installments', 'review_score', 'product_photos_qty', 'customer_state', 'seller_state']\n",
      "\n",
      "['order_purchase_timestamp', 'order_approved_at', 'order_delivered_carrier_date', 'order_delivered_customer_date', 'order_estimated_delivery_date', 'shipping_limit_date', 'price', 'freight_value', 'payment_sequential', 'payment_value', 'review_comment_title', 'review_comment_message', 'review_creation_date', 'review_answer_timestamp', 'product_category_name', 'product_name_lenght', 'product_description_lenght', 'product_weight_g', 'product_length_cm', 'product_height_cm', 'product_width_cm', 'customer_zip_code_prefix', 'customer_city', 'seller_city']\n",
      "\n",
      "['order_status', 'order_item_id', 'payment_type', 'payment_installments', 'review_score', 'product_photos_qty', 'customer_state', 'seller_state']\n"
     ]
    }
   ],
   "source": [
    "print(bin_cols)\n",
    "print('')\n",
    "print(cat_cols)\n",
    "print('')\n",
    "print(num_cols)\n",
    "print('')\n",
    "print(multi_cols)"
   ]
  },
  {
   "cell_type": "markdown",
   "metadata": {},
   "source": [
    "# 결측치 처리\n",
    "1. 결측치는 아니지만, order_status가 delivered 경우의 데이터로만 분석을 진행하고자 하여 order_status가 delivered 아닌 경우 drop\n",
    "    - 전체에서 2.87% drop\n",
    "2. review 관련 columns 제외하고 나머지 결측치인 경우 drop\n",
    "    - 1번 진행 후 전체에서 4.27% drop\n",
    "\n"
   ]
  },
  {
   "cell_type": "code",
   "execution_count": 92,
   "metadata": {},
   "outputs": [
    {
     "data": {
      "text/plain": [
       "order_approved_at                   177\n",
       "order_delivered_carrier_date       2086\n",
       "order_delivered_customer_date      3421\n",
       "order_item_id                       833\n",
       "product_id                          833\n",
       "seller_id                           833\n",
       "shipping_limit_date                 833\n",
       "price                               833\n",
       "freight_value                       833\n",
       "payment_sequential                    3\n",
       "payment_type                          3\n",
       "payment_installments                  3\n",
       "payment_value                         3\n",
       "review_id                           997\n",
       "review_score                        997\n",
       "review_comment_title             105154\n",
       "review_comment_message            68898\n",
       "review_creation_date                997\n",
       "review_answer_timestamp             997\n",
       "product_category_name              2542\n",
       "product_name_lenght                2542\n",
       "product_description_lenght         2542\n",
       "product_photos_qty                 2542\n",
       "product_weight_g                    853\n",
       "product_length_cm                   853\n",
       "product_height_cm                   853\n",
       "product_width_cm                    853\n",
       "seller_zip_code_prefix              833\n",
       "seller_city                         833\n",
       "seller_state                        833\n",
       "dtype: int64"
      ]
     },
     "execution_count": 92,
     "metadata": {},
     "output_type": "execute_result"
    }
   ],
   "source": [
    "df.isna().sum()[df.isna().sum() != 0]"
   ]
  },
  {
   "cell_type": "code",
   "execution_count": 93,
   "metadata": {},
   "outputs": [
    {
     "data": {
      "text/plain": [
       "array(['delivered', 'shipped', 'canceled', 'invoiced', 'processing',\n",
       "       'unavailable', 'created', 'approved'], dtype=object)"
      ]
     },
     "execution_count": 93,
     "metadata": {},
     "output_type": "execute_result"
    }
   ],
   "source": [
    "df['order_status'].unique()"
   ]
  },
  {
   "cell_type": "code",
   "execution_count": 94,
   "metadata": {},
   "outputs": [
    {
     "name": "stdout",
     "output_type": "stream",
     "text": [
      "order_status가 delivered 아닌 경우의 비율 : 2.87\n"
     ]
    },
    {
     "data": {
      "text/plain": [
       "delivered      115723\n",
       "shipped          1256\n",
       "canceled          750\n",
       "unavailable       652\n",
       "invoiced          378\n",
       "processing        376\n",
       "created             5\n",
       "approved            3\n",
       "Name: order_status, dtype: int64"
      ]
     },
     "execution_count": 94,
     "metadata": {},
     "output_type": "execute_result"
    }
   ],
   "source": [
    "# order_status가 delivered 경우의 데이터로만 분석을 진행하고자 하여 order_status가 delivered 아닌 경우 drop\n",
    "\n",
    "print( 'order_status가 delivered 아닌 경우의 비율 :', round( df[df['order_status'] != 'delivered'].shape[0] / df['order_status'].shape[0] * 100 , 2) )\n",
    "df['order_status'].value_counts()"
   ]
  },
  {
   "cell_type": "code",
   "execution_count": 95,
   "metadata": {},
   "outputs": [
    {
     "name": "stdout",
     "output_type": "stream",
     "text": [
      "---결측치 제거 전---\n"
     ]
    },
    {
     "data": {
      "text/plain": [
       "order_approved_at                    15\n",
       "order_delivered_carrier_date          2\n",
       "order_delivered_customer_date         8\n",
       "payment_sequential                    3\n",
       "payment_type                          3\n",
       "payment_installments                  3\n",
       "payment_value                         3\n",
       "review_id                           861\n",
       "review_score                        861\n",
       "review_comment_title             102139\n",
       "review_comment_message            67628\n",
       "review_creation_date                861\n",
       "review_answer_timestamp             861\n",
       "product_category_name              1638\n",
       "product_name_lenght                1638\n",
       "product_description_lenght         1638\n",
       "product_photos_qty                 1638\n",
       "product_weight_g                     20\n",
       "product_length_cm                    20\n",
       "product_height_cm                    20\n",
       "product_width_cm                     20\n",
       "dtype: int64"
      ]
     },
     "metadata": {},
     "output_type": "display_data"
    },
    {
     "name": "stdout",
     "output_type": "stream",
     "text": [
      "---결측치 제거 후---\n"
     ]
    },
    {
     "data": {
      "text/plain": [
       "review_id                     849\n",
       "review_score                  849\n",
       "review_comment_title       100556\n",
       "review_comment_message      66696\n",
       "review_creation_date          849\n",
       "review_answer_timestamp       849\n",
       "dtype: int64"
      ]
     },
     "metadata": {},
     "output_type": "display_data"
    },
    {
     "name": "stdout",
     "output_type": "stream",
     "text": [
      "---결측치 제거 후 Data shape ---\n",
      "(114058, 39)\n"
     ]
    },
    {
     "data": {
      "text/plain": [
       "4.27"
      ]
     },
     "execution_count": 95,
     "metadata": {},
     "output_type": "execute_result"
    }
   ],
   "source": [
    "# order_status가 delivered 경우의 데이터로만 분석을 진행하고자 하여 order_status가 delivered 아닌 경우 drop\n",
    "\n",
    "df2 = df.copy()\n",
    "df2 = df2.drop(df[df['order_status'] != 'delivered'].index)\n",
    "\n",
    "# review 관련 결측치 값은 리뷰 분석(NLP)시 진행!\n",
    "print('---결측치 제거 전---')\n",
    "display(df2.isna().sum()[df2.isna().sum() != 0])\n",
    "\n",
    "# product_category_name의 order_status가 전부 delivered지만, category별 데이터 분석을 진행하고자 해당 결측치는 drop\n",
    "\n",
    "df2[df2.product_category_name.isna()]['order_status'].value_counts()\n",
    "df2 = df2.drop(df2[df2.product_category_name.isna()].index)\n",
    "\n",
    "\n",
    "# review 관련 columns 제외하고 나머지 결측치인 경우 drop\n",
    "\n",
    "nan_col_lst = df2.isna().sum()[df2.isna().sum() != 0].index\n",
    "\n",
    "for i in nan_col_lst[~nan_col_lst.str.contains('review')] :\n",
    "    df2 = df2.drop(df2[df2[f'{i}'].isna()].index)\n",
    "\n",
    "print('---결측치 제거 후---')\n",
    "display(df2.isna().sum()[df2.isna().sum() != 0])\n",
    "\n",
    "print('---결측치 제거 후 Data shape ---')\n",
    "print(df2.shape)\n",
    "round( ((df.shape[0] - df2.shape[0]) / df.shape[0] * 100), 2)\n"
   ]
  },
  {
   "cell_type": "code",
   "execution_count": 96,
   "metadata": {},
   "outputs": [],
   "source": [
    "# 결측치 처리 완료 data 저장\n",
    "\n",
    "df2.to_csv('../Data_e-commerce/null_preprocessing_complete.csv', index=False)"
   ]
  },
  {
   "cell_type": "markdown",
   "metadata": {},
   "source": [
    "# 파생변수 생성 및 컬럼 전처리"
   ]
  },
  {
   "cell_type": "code",
   "execution_count": 12,
   "metadata": {},
   "outputs": [
    {
     "data": {
      "text/html": [
       "<div>\n",
       "<style scoped>\n",
       "    .dataframe tbody tr th:only-of-type {\n",
       "        vertical-align: middle;\n",
       "    }\n",
       "\n",
       "    .dataframe tbody tr th {\n",
       "        vertical-align: top;\n",
       "    }\n",
       "\n",
       "    .dataframe thead th {\n",
       "        text-align: right;\n",
       "    }\n",
       "</style>\n",
       "<table border=\"1\" class=\"dataframe\">\n",
       "  <thead>\n",
       "    <tr style=\"text-align: right;\">\n",
       "      <th></th>\n",
       "      <th>order_id</th>\n",
       "      <th>customer_id</th>\n",
       "      <th>order_status</th>\n",
       "      <th>order_purchase_timestamp</th>\n",
       "      <th>order_approved_at</th>\n",
       "      <th>order_delivered_carrier_date</th>\n",
       "      <th>order_delivered_customer_date</th>\n",
       "      <th>order_estimated_delivery_date</th>\n",
       "      <th>order_item_id</th>\n",
       "      <th>product_id</th>\n",
       "      <th>...</th>\n",
       "      <th>product_length_cm</th>\n",
       "      <th>product_height_cm</th>\n",
       "      <th>product_width_cm</th>\n",
       "      <th>customer_unique_id</th>\n",
       "      <th>customer_zip_code_prefix</th>\n",
       "      <th>customer_city</th>\n",
       "      <th>customer_state</th>\n",
       "      <th>seller_zip_code_prefix</th>\n",
       "      <th>seller_city</th>\n",
       "      <th>seller_state</th>\n",
       "    </tr>\n",
       "  </thead>\n",
       "  <tbody>\n",
       "    <tr>\n",
       "      <th>0</th>\n",
       "      <td>e481f51cbdc54678b7cc49136f2d6af7</td>\n",
       "      <td>9ef432eb6251297304e76186b10a928d</td>\n",
       "      <td>delivered</td>\n",
       "      <td>2017-10-02 10:56:33</td>\n",
       "      <td>2017-10-02 11:07:15</td>\n",
       "      <td>2017-10-04 19:55:00</td>\n",
       "      <td>2017-10-10 21:25:13</td>\n",
       "      <td>2017-10-18 00:00:00</td>\n",
       "      <td>1.0</td>\n",
       "      <td>87285b34884572647811a353c7ac498a</td>\n",
       "      <td>...</td>\n",
       "      <td>19.0</td>\n",
       "      <td>8.0</td>\n",
       "      <td>13.0</td>\n",
       "      <td>7c396fd4830fd04220f754e42b4e5bff</td>\n",
       "      <td>3149</td>\n",
       "      <td>sao paulo</td>\n",
       "      <td>SP</td>\n",
       "      <td>9350.0</td>\n",
       "      <td>maua</td>\n",
       "      <td>SP</td>\n",
       "    </tr>\n",
       "    <tr>\n",
       "      <th>1</th>\n",
       "      <td>e481f51cbdc54678b7cc49136f2d6af7</td>\n",
       "      <td>9ef432eb6251297304e76186b10a928d</td>\n",
       "      <td>delivered</td>\n",
       "      <td>2017-10-02 10:56:33</td>\n",
       "      <td>2017-10-02 11:07:15</td>\n",
       "      <td>2017-10-04 19:55:00</td>\n",
       "      <td>2017-10-10 21:25:13</td>\n",
       "      <td>2017-10-18 00:00:00</td>\n",
       "      <td>1.0</td>\n",
       "      <td>87285b34884572647811a353c7ac498a</td>\n",
       "      <td>...</td>\n",
       "      <td>19.0</td>\n",
       "      <td>8.0</td>\n",
       "      <td>13.0</td>\n",
       "      <td>7c396fd4830fd04220f754e42b4e5bff</td>\n",
       "      <td>3149</td>\n",
       "      <td>sao paulo</td>\n",
       "      <td>SP</td>\n",
       "      <td>9350.0</td>\n",
       "      <td>maua</td>\n",
       "      <td>SP</td>\n",
       "    </tr>\n",
       "    <tr>\n",
       "      <th>2</th>\n",
       "      <td>e481f51cbdc54678b7cc49136f2d6af7</td>\n",
       "      <td>9ef432eb6251297304e76186b10a928d</td>\n",
       "      <td>delivered</td>\n",
       "      <td>2017-10-02 10:56:33</td>\n",
       "      <td>2017-10-02 11:07:15</td>\n",
       "      <td>2017-10-04 19:55:00</td>\n",
       "      <td>2017-10-10 21:25:13</td>\n",
       "      <td>2017-10-18 00:00:00</td>\n",
       "      <td>1.0</td>\n",
       "      <td>87285b34884572647811a353c7ac498a</td>\n",
       "      <td>...</td>\n",
       "      <td>19.0</td>\n",
       "      <td>8.0</td>\n",
       "      <td>13.0</td>\n",
       "      <td>7c396fd4830fd04220f754e42b4e5bff</td>\n",
       "      <td>3149</td>\n",
       "      <td>sao paulo</td>\n",
       "      <td>SP</td>\n",
       "      <td>9350.0</td>\n",
       "      <td>maua</td>\n",
       "      <td>SP</td>\n",
       "    </tr>\n",
       "    <tr>\n",
       "      <th>3</th>\n",
       "      <td>128e10d95713541c87cd1a2e48201934</td>\n",
       "      <td>a20e8105f23924cd00833fd87daa0831</td>\n",
       "      <td>delivered</td>\n",
       "      <td>2017-08-15 18:29:31</td>\n",
       "      <td>2017-08-15 20:05:16</td>\n",
       "      <td>2017-08-17 15:28:33</td>\n",
       "      <td>2017-08-18 14:44:43</td>\n",
       "      <td>2017-08-28 00:00:00</td>\n",
       "      <td>1.0</td>\n",
       "      <td>87285b34884572647811a353c7ac498a</td>\n",
       "      <td>...</td>\n",
       "      <td>19.0</td>\n",
       "      <td>8.0</td>\n",
       "      <td>13.0</td>\n",
       "      <td>3a51803cc0d012c3b5dc8b7528cb05f7</td>\n",
       "      <td>3366</td>\n",
       "      <td>sao paulo</td>\n",
       "      <td>SP</td>\n",
       "      <td>9350.0</td>\n",
       "      <td>maua</td>\n",
       "      <td>SP</td>\n",
       "    </tr>\n",
       "    <tr>\n",
       "      <th>4</th>\n",
       "      <td>0e7e841ddf8f8f2de2bad69267ecfbcf</td>\n",
       "      <td>26c7ac168e1433912a51b924fbd34d34</td>\n",
       "      <td>delivered</td>\n",
       "      <td>2017-08-02 18:24:47</td>\n",
       "      <td>2017-08-02 18:43:15</td>\n",
       "      <td>2017-08-04 17:35:43</td>\n",
       "      <td>2017-08-07 18:30:01</td>\n",
       "      <td>2017-08-15 00:00:00</td>\n",
       "      <td>1.0</td>\n",
       "      <td>87285b34884572647811a353c7ac498a</td>\n",
       "      <td>...</td>\n",
       "      <td>19.0</td>\n",
       "      <td>8.0</td>\n",
       "      <td>13.0</td>\n",
       "      <td>ef0996a1a279c26e7ecbd737be23d235</td>\n",
       "      <td>2290</td>\n",
       "      <td>sao paulo</td>\n",
       "      <td>SP</td>\n",
       "      <td>9350.0</td>\n",
       "      <td>maua</td>\n",
       "      <td>SP</td>\n",
       "    </tr>\n",
       "  </tbody>\n",
       "</table>\n",
       "<p>5 rows × 39 columns</p>\n",
       "</div>"
      ],
      "text/plain": [
       "                           order_id                       customer_id  \\\n",
       "0  e481f51cbdc54678b7cc49136f2d6af7  9ef432eb6251297304e76186b10a928d   \n",
       "1  e481f51cbdc54678b7cc49136f2d6af7  9ef432eb6251297304e76186b10a928d   \n",
       "2  e481f51cbdc54678b7cc49136f2d6af7  9ef432eb6251297304e76186b10a928d   \n",
       "3  128e10d95713541c87cd1a2e48201934  a20e8105f23924cd00833fd87daa0831   \n",
       "4  0e7e841ddf8f8f2de2bad69267ecfbcf  26c7ac168e1433912a51b924fbd34d34   \n",
       "\n",
       "  order_status order_purchase_timestamp    order_approved_at  \\\n",
       "0    delivered      2017-10-02 10:56:33  2017-10-02 11:07:15   \n",
       "1    delivered      2017-10-02 10:56:33  2017-10-02 11:07:15   \n",
       "2    delivered      2017-10-02 10:56:33  2017-10-02 11:07:15   \n",
       "3    delivered      2017-08-15 18:29:31  2017-08-15 20:05:16   \n",
       "4    delivered      2017-08-02 18:24:47  2017-08-02 18:43:15   \n",
       "\n",
       "  order_delivered_carrier_date order_delivered_customer_date  \\\n",
       "0          2017-10-04 19:55:00           2017-10-10 21:25:13   \n",
       "1          2017-10-04 19:55:00           2017-10-10 21:25:13   \n",
       "2          2017-10-04 19:55:00           2017-10-10 21:25:13   \n",
       "3          2017-08-17 15:28:33           2017-08-18 14:44:43   \n",
       "4          2017-08-04 17:35:43           2017-08-07 18:30:01   \n",
       "\n",
       "  order_estimated_delivery_date  order_item_id  \\\n",
       "0           2017-10-18 00:00:00            1.0   \n",
       "1           2017-10-18 00:00:00            1.0   \n",
       "2           2017-10-18 00:00:00            1.0   \n",
       "3           2017-08-28 00:00:00            1.0   \n",
       "4           2017-08-15 00:00:00            1.0   \n",
       "\n",
       "                         product_id  ... product_length_cm product_height_cm  \\\n",
       "0  87285b34884572647811a353c7ac498a  ...              19.0               8.0   \n",
       "1  87285b34884572647811a353c7ac498a  ...              19.0               8.0   \n",
       "2  87285b34884572647811a353c7ac498a  ...              19.0               8.0   \n",
       "3  87285b34884572647811a353c7ac498a  ...              19.0               8.0   \n",
       "4  87285b34884572647811a353c7ac498a  ...              19.0               8.0   \n",
       "\n",
       "   product_width_cm                customer_unique_id  \\\n",
       "0              13.0  7c396fd4830fd04220f754e42b4e5bff   \n",
       "1              13.0  7c396fd4830fd04220f754e42b4e5bff   \n",
       "2              13.0  7c396fd4830fd04220f754e42b4e5bff   \n",
       "3              13.0  3a51803cc0d012c3b5dc8b7528cb05f7   \n",
       "4              13.0  ef0996a1a279c26e7ecbd737be23d235   \n",
       "\n",
       "   customer_zip_code_prefix customer_city  customer_state  \\\n",
       "0                      3149     sao paulo              SP   \n",
       "1                      3149     sao paulo              SP   \n",
       "2                      3149     sao paulo              SP   \n",
       "3                      3366     sao paulo              SP   \n",
       "4                      2290     sao paulo              SP   \n",
       "\n",
       "   seller_zip_code_prefix seller_city  seller_state  \n",
       "0                  9350.0        maua            SP  \n",
       "1                  9350.0        maua            SP  \n",
       "2                  9350.0        maua            SP  \n",
       "3                  9350.0        maua            SP  \n",
       "4                  9350.0        maua            SP  \n",
       "\n",
       "[5 rows x 39 columns]"
      ]
     },
     "execution_count": 12,
     "metadata": {},
     "output_type": "execute_result"
    }
   ],
   "source": [
    "df = pd.read_csv('../Data_e-commerce/null_preprocessing_complete.csv')\n",
    "df.head()"
   ]
  },
  {
   "cell_type": "markdown",
   "metadata": {},
   "source": [
    "날짜 관련 컬럼 전처리\n",
    "\n",
    "1. 컬럼 추가\n",
    "    - 평균 배송일 컬럼 추가(소비자 구매 시각 기준) \n",
    "    - 실제 배송일과 추정 배송일의 차이 컬럼 추가\n",
    "\n",
    "2. order_purchase_timestamp(구매 시각), order_approved_at(결제 승인 시각) 중 하나만 선택\n",
    "- 단순 구매 시각이 아닌, order_approved_at(결제 승인 시각)을 사용하여 배송 관련 파생변수를 만드는 것으로 결정"
   ]
  },
  {
   "cell_type": "code",
   "execution_count": 13,
   "metadata": {},
   "outputs": [],
   "source": [
    "# dtype datetime으로 변경\n",
    "\n",
    "date_col = ['order_purchase_timestamp',\n",
    "'order_approved_at', 'order_delivered_carrier_date',\n",
    "'order_delivered_customer_date', 'order_estimated_delivery_date'\n",
    ",'shipping_limit_date', 'review_creation_date', 'review_answer_timestamp' ]\n",
    "\n",
    "for i in date_col :\n",
    "    df[f'{i}'] = pd.to_datetime( df[f'{i}'] )"
   ]
  },
  {
   "cell_type": "code",
   "execution_count": 14,
   "metadata": {},
   "outputs": [],
   "source": [
    "# 평균 배송일 컬럼 추가 (소비자 기준)\n",
    "\n",
    "df['average_delivery_day'] = df['order_delivered_customer_date'] - df['order_approved_at']\n",
    "\n",
    "df['average_delivery_day'] = df['average_delivery_day'].astype(str)\n",
    "df['average_delivery_day'] = df['average_delivery_day'].apply(lambda x: x.split()[0])"
   ]
  },
  {
   "cell_type": "code",
   "execution_count": 15,
   "metadata": {},
   "outputs": [],
   "source": [
    "# 실제 배송일과 추정 배송일의 차이 컬럼 추가\n",
    "\n",
    "df['actual_estimate_diff_day'] = df['order_delivered_customer_date'] - df['order_estimated_delivery_date']\n",
    "\n",
    "df['actual_estimate_diff_day'] = df['actual_estimate_diff_day'].astype(str)\n",
    "df['actual_estimate_diff_day'] = df['actual_estimate_diff_day'].apply(lambda x: x.split()[0])"
   ]
  },
  {
   "cell_type": "code",
   "execution_count": 20,
   "metadata": {},
   "outputs": [
    {
     "data": {
      "text/plain": [
       "114053     -9\n",
       "114054    -11\n",
       "114055    -14\n",
       "114056      4\n",
       "114057     -8\n",
       "Name: actual_estimate_diff_day, dtype: object"
      ]
     },
     "execution_count": 20,
     "metadata": {},
     "output_type": "execute_result"
    }
   ],
   "source": [
    "# -는 예상 배송일을 더 늦게(넉넉히) 잡은 경우, +는 실제 배송일이 더 늦은 경우 -> 분석을 위해 절댓값(abs)은 사용 X\n",
    "# 실제 배송일이 더 늦은 경우의 review_score와 비교해볼 예정\n",
    "df['actual_estimate_diff_day'][-5:]"
   ]
  },
  {
   "cell_type": "code",
   "execution_count": 21,
   "metadata": {},
   "outputs": [
    {
     "data": {
      "text/plain": [
       "<AxesSubplot: xlabel='difference', ylabel='count'>"
      ]
     },
     "metadata": {},
     "output_type": "display_data"
    },
    {
     "data": {
      "image/png": "[encoded data removed]",
      "text/plain": [
       "<Figure size 640x480 with 1 Axes>"
      ]
     },
     "metadata": {},
     "output_type": "display_data"
    }
   ],
   "source": [
    "# 구매 시간과 결제 승인 시간의 차이 확인 -> 차이가 거의 없으면 구매 시간 column drop할 예정!\n",
    "# 대부분 1~2일 사이에 결제가 완료되는 것을 확인, 따라서 차이가 거의 없으므로 order_purchase_timestamp 컬럼 drop\n",
    "\n",
    "df['difference'] = df['order_approved_at'] - df['order_purchase_timestamp']\n",
    "\n",
    "df['difference'] = df['difference'].astype(str)\n",
    "df['difference'] = df['difference'].apply(lambda x: x.split()[0])\n",
    "\n",
    "display(sns.countplot(data = df, x= 'difference'))"
   ]
  },
  {
   "cell_type": "code",
   "execution_count": 22,
   "metadata": {},
   "outputs": [],
   "source": [
    "# 결제 승인 컬럼 기준 파생변수 생성\n",
    "\n",
    "df[\"order_approved_at_year\"] = df['order_approved_at'].dt.year\n",
    "df[\"order_approved_at_month\"] = df['order_approved_at'].dt.month\n",
    "df[\"order_approved_at_day\"] = df['order_approved_at'].dt.day\n",
    "df[\"order_approved_at_date\"] = df['order_approved_at'].dt.date\n",
    "df[\"order_approved_at_hour\"] = df['order_approved_at'].dt.hour\n",
    "df[\"order_approved_at_weekday\"] = df['order_approved_at'].dt.day_name()\n",
    "\n",
    "# 구매 시간 기준 파생변수 생성\n",
    "\n",
    "df[\"order_purchase_timestamp_year\"] = df['order_purchase_timestamp'].dt.year\n",
    "df[\"order_purchase_timestamp_month\"] = df['order_purchase_timestamp'].dt.month\n",
    "df[\"order_purchase_timestamp_day\"] = df['order_purchase_timestamp'].dt.day\n",
    "df[\"order_purchase_timestamp_date\"] = df['order_purchase_timestamp'].dt.date\n",
    "df[\"order_purchase_timestamp_hour\"] = df['order_purchase_timestamp'].dt.hour\n",
    "# df[\"order_purchase_timestamp_weekday\"] = df['order_purchase_timestamp'].dt.dayofweek\n",
    "df[\"order_purchase_timestamp_weekday\"] = df['order_purchase_timestamp'].dt.day_name()\n"
   ]
  },
  {
   "cell_type": "markdown",
   "metadata": {},
   "source": [
    "zip_code 전처리\n",
    "\n",
    "4글자 -> 5글자로 만들어주기 위해 0을 추가\n",
    "- SP주만 '0'으로 시작하는 우편번호 존재, 따라서 SP주만 따로 전처리 필요 (SP주 우편번호 : 01000 to 19990)\n",
    "- SP주 이외의 주는 모두 5글자로 뒤에 0이 잘 붙어있는 것을 확인, 따라서 SP주는 0을 앞에 붙여주는 전처리를 진행"
   ]
  },
  {
   "cell_type": "code",
   "execution_count": 23,
   "metadata": {},
   "outputs": [
    {
     "name": "stdout",
     "output_type": "stream",
     "text": [
      "['customer_zip_code_prefix', 'seller_zip_code_prefix']\n"
     ]
    }
   ],
   "source": [
    "sp_df = df[df.customer_state == 'SP']\n",
    "other_df = df[df.customer_state != 'SP']\n",
    "\n",
    "zip_code_col = [i for i in sp_df.columns if 'zip' in i]\n",
    "print(zip_code_col)"
   ]
  },
  {
   "cell_type": "code",
   "execution_count": 24,
   "metadata": {},
   "outputs": [
    {
     "data": {
      "text/plain": [
       "(20010, 99980)"
      ]
     },
     "execution_count": 24,
     "metadata": {},
     "output_type": "execute_result"
    },
    {
     "data": {
      "image/png": "[encoded data removed]",
      "text/plain": [
       "<Figure size 640x480 with 1 Axes>"
      ]
     },
     "metadata": {},
     "output_type": "display_data"
    }
   ],
   "source": [
    "sns.distplot(other_df.customer_zip_code_prefix, kde=False)\n",
    "min(other_df.customer_zip_code_prefix), max(other_df.customer_zip_code_prefix)"
   ]
  },
  {
   "cell_type": "code",
   "execution_count": 25,
   "metadata": {},
   "outputs": [],
   "source": [
    "# SP주 변경\n",
    "\n",
    "sp_df['customer_zip_code_prefix'] = sp_df['customer_zip_code_prefix'].astype(str)\n",
    "sp_df['customer_zip_code_prefix'] = sp_df['customer_zip_code_prefix'].apply(lambda x: '0' + x if len(x) < 5 else x)\n",
    "\n",
    "sp_df['seller_zip_code_prefix'] = sp_df['seller_zip_code_prefix'].astype(int)\n",
    "sp_df['seller_zip_code_prefix'] = sp_df['seller_zip_code_prefix'].astype(str)\n",
    "sp_df['seller_zip_code_prefix'] = sp_df['seller_zip_code_prefix'].apply(lambda x: '0' + x if len(x) < 5 else x)"
   ]
  },
  {
   "cell_type": "code",
   "execution_count": 26,
   "metadata": {},
   "outputs": [
    {
     "data": {
      "text/plain": [
       "('01003', '19970')"
      ]
     },
     "execution_count": 26,
     "metadata": {},
     "output_type": "execute_result"
    }
   ],
   "source": [
    "min(sp_df.customer_zip_code_prefix), max(sp_df.customer_zip_code_prefix)"
   ]
  },
  {
   "cell_type": "code",
   "execution_count": 27,
   "metadata": {},
   "outputs": [
    {
     "data": {
      "text/plain": [
       "0         03149\n",
       "1         03149\n",
       "2         03149\n",
       "3         03366\n",
       "4         02290\n",
       "          ...  \n",
       "114046    13974\n",
       "114050    09060\n",
       "114051    09060\n",
       "114054    08528\n",
       "114057    09687\n",
       "Name: customer_zip_code_prefix, Length: 48116, dtype: object"
      ]
     },
     "execution_count": 27,
     "metadata": {},
     "output_type": "execute_result"
    }
   ],
   "source": [
    "sp_df[sp_df.customer_state == 'SP']['customer_zip_code_prefix']"
   ]
  },
  {
   "cell_type": "code",
   "execution_count": 28,
   "metadata": {},
   "outputs": [],
   "source": [
    "# data merge\n",
    "\n",
    "df = pd.concat([sp_df, other_df])"
   ]
  },
  {
   "cell_type": "code",
   "execution_count": 29,
   "metadata": {},
   "outputs": [
    {
     "data": {
      "text/plain": [
       "0         03149\n",
       "1         03149\n",
       "2         03149\n",
       "3         03366\n",
       "4         02290\n",
       "          ...  \n",
       "114046    13974\n",
       "114050    09060\n",
       "114051    09060\n",
       "114054    08528\n",
       "114057    09687\n",
       "Name: customer_zip_code_prefix, Length: 48116, dtype: object"
      ]
     },
     "execution_count": 29,
     "metadata": {},
     "output_type": "execute_result"
    }
   ],
   "source": [
    "df[df.customer_state == 'SP']['customer_zip_code_prefix']"
   ]
  },
  {
   "cell_type": "markdown",
   "metadata": {},
   "source": [
    "product_category_name translation을 사용하여 포루투갈어 -> 영어로 변경"
   ]
  },
  {
   "cell_type": "code",
   "execution_count": 43,
   "metadata": {},
   "outputs": [
    {
     "data": {
      "text/html": [
       "<div>\n",
       "<style scoped>\n",
       "    .dataframe tbody tr th:only-of-type {\n",
       "        vertical-align: middle;\n",
       "    }\n",
       "\n",
       "    .dataframe tbody tr th {\n",
       "        vertical-align: top;\n",
       "    }\n",
       "\n",
       "    .dataframe thead th {\n",
       "        text-align: right;\n",
       "    }\n",
       "</style>\n",
       "<table border=\"1\" class=\"dataframe\">\n",
       "  <thead>\n",
       "    <tr style=\"text-align: right;\">\n",
       "      <th></th>\n",
       "      <th>product_category_name</th>\n",
       "      <th>product_category_name_english</th>\n",
       "    </tr>\n",
       "  </thead>\n",
       "  <tbody>\n",
       "    <tr>\n",
       "      <th>0</th>\n",
       "      <td>beleza_saude</td>\n",
       "      <td>health_beauty</td>\n",
       "    </tr>\n",
       "    <tr>\n",
       "      <th>1</th>\n",
       "      <td>informatica_acessorios</td>\n",
       "      <td>computers_accessories</td>\n",
       "    </tr>\n",
       "    <tr>\n",
       "      <th>2</th>\n",
       "      <td>automotivo</td>\n",
       "      <td>auto</td>\n",
       "    </tr>\n",
       "    <tr>\n",
       "      <th>3</th>\n",
       "      <td>cama_mesa_banho</td>\n",
       "      <td>bed_bath_table</td>\n",
       "    </tr>\n",
       "    <tr>\n",
       "      <th>4</th>\n",
       "      <td>moveis_decoracao</td>\n",
       "      <td>furniture_decor</td>\n",
       "    </tr>\n",
       "  </tbody>\n",
       "</table>\n",
       "</div>"
      ],
      "text/plain": [
       "    product_category_name product_category_name_english\n",
       "0            beleza_saude                 health_beauty\n",
       "1  informatica_acessorios         computers_accessories\n",
       "2              automotivo                          auto\n",
       "3         cama_mesa_banho                bed_bath_table\n",
       "4        moveis_decoracao               furniture_decor"
      ]
     },
     "execution_count": 43,
     "metadata": {},
     "output_type": "execute_result"
    }
   ],
   "source": [
    "name_translation[:5]"
   ]
  },
  {
   "cell_type": "code",
   "execution_count": 30,
   "metadata": {},
   "outputs": [
    {
     "data": {
      "text/plain": [
       "73"
      ]
     },
     "metadata": {},
     "output_type": "display_data"
    },
    {
     "data": {
      "text/plain": [
       "71"
      ]
     },
     "metadata": {},
     "output_type": "display_data"
    },
    {
     "name": "stdout",
     "output_type": "stream",
     "text": [
      "['pc_gamer', 'portateis_cozinha_e_preparadores_de_alimentos']\n",
      "(14, 54)\n",
      "(9, 54)\n"
     ]
    }
   ],
   "source": [
    "display(df.product_category_name.nunique(), name_translation.product_category_name.nunique())\n",
    "\n",
    "dif_lst = [i for i in df.product_category_name.unique() if i not in name_translation.product_category_name.unique()]\n",
    "\n",
    "# project data에는 있는데 name_translation data에 없는 product_category_name인 경우 (2가지)\n",
    "# 휴대용 주방 음식 냉장고, PC 게임\n",
    "print(dif_lst)\n",
    "\n",
    "print(df[df.product_category_name == 'portateis_cozinha_e_preparadores_de_alimentos'].shape)\n",
    "print(df[df.product_category_name == 'pc_gamer'].shape)"
   ]
  },
  {
   "cell_type": "code",
   "execution_count": 31,
   "metadata": {},
   "outputs": [],
   "source": [
    "# product_category_name translation : 포루투갈어 -> 영어\n",
    "# project data에는 있는데 name_translation data에 없는 product_category_name인 경우 (2가지)가 총 25건수로 매우 적은 데이터여서 drop\n",
    "\n",
    "df = df.merge(name_translation, on ='product_category_name', how = 'left')\n",
    "df = df.drop(df[df.product_category_name_english.isna()].index)"
   ]
  },
  {
   "cell_type": "markdown",
   "metadata": {},
   "source": [
    "## 불필요한 컬럼 drop"
   ]
  },
  {
   "cell_type": "code",
   "execution_count": null,
   "metadata": {},
   "outputs": [],
   "source": [
    "df1 = df.copy()\n",
    "df1.columns"
   ]
  },
  {
   "cell_type": "code",
   "execution_count": 34,
   "metadata": {},
   "outputs": [],
   "source": [
    "# order_status가 delivered 하나 -> drop\n",
    "# order_delivered_carrier_date, order_delivered_customer_date, order_estimated_delivery_date 파생 변수 만들었으니 drop\n",
    "# df1 = df.copy()\n",
    "\n",
    "del_col = ['difference', 'order_status', \n",
    "        'order_delivered_carrier_date', 'order_delivered_customer_date',\n",
    "        'order_estimated_delivery_date', 'shipping_limit_date',  \n",
    "        'product_category_name']\n",
    "df1 = df1.drop(columns=del_col)\n",
    "\n",
    "# 특정 역할의 id column 제외하고 merge에 사용한 id columns drop\n",
    "id_col = [i for i in df1.columns if 'id' in i]\n",
    "id_col.remove('order_item_id')\n",
    "id_col.remove('customer_unique_id')\n",
    "df1 = df1.drop(columns=id_col)"
   ]
  },
  {
   "cell_type": "code",
   "execution_count": 35,
   "metadata": {},
   "outputs": [
    {
     "name": "stdout",
     "output_type": "stream",
     "text": [
      "(114035, 55) (114035, 42)\n"
     ]
    },
    {
     "data": {
      "text/plain": [
       "Series([], dtype: int64)"
      ]
     },
     "execution_count": 35,
     "metadata": {},
     "output_type": "execute_result"
    }
   ],
   "source": [
    "print(df.shape, df1.shape)\n",
    "\n",
    "# nuniuqe값이 1인 경우 확인 -> 1이면 drop / 없는 것을 확인\n",
    "df1.nunique()[df1.nunique() == 1]"
   ]
  },
  {
   "cell_type": "code",
   "execution_count": 36,
   "metadata": {},
   "outputs": [],
   "source": [
    "df1 = df1.rename(columns={'product_category_name_english' : 'product_category'})"
   ]
  },
  {
   "cell_type": "code",
   "execution_count": 39,
   "metadata": {},
   "outputs": [
    {
     "data": {
      "text/plain": [
       "(114035, 42)"
      ]
     },
     "execution_count": 39,
     "metadata": {},
     "output_type": "execute_result"
    }
   ],
   "source": [
    "df1.shape"
   ]
  },
  {
   "cell_type": "code",
   "execution_count": 40,
   "metadata": {},
   "outputs": [],
   "source": [
    "# 컬럼별 전처리 완료, data 저장\n",
    "\n",
    "df1.to_csv('../Data_e-commerce/col_preprocessing_complete.csv', index = False)\n",
    "# df1.to_excel(excel_writer = 'col_preprocessing_complete.xlsx', index= False)"
   ]
  }
 ],
 "metadata": {
  "kernelspec": {
   "display_name": "Python 3.8.13 ('fastcampus')",
   "language": "python",
   "name": "python3"
  },
  "language_info": {
   "codemirror_mode": {
    "name": "ipython",
    "version": 3
   },
   "file_extension": ".py",
   "mimetype": "text/x-python",
   "name": "python",
   "nbconvert_exporter": "python",
   "pygments_lexer": "ipython3",
   "version": "3.8.13"
  },
  "orig_nbformat": 4,
  "vscode": {
   "interpreter": {
    "hash": "058ea4f9840312a0374664ec0a2cf0b83c1baf4900d99cb168b57f81fb4cf306"
   }
  }
 },
 "nbformat": 4,
 "nbformat_minor": 2
}
